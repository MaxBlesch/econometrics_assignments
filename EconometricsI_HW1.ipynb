{
 "cells": [
  {
   "cell_type": "markdown",
   "metadata": {},
   "source": [
    "# Homework Assignment 1 - Maximilian Blesch, Aiko Schmeißer, Felix Degenhardt\n",
    "## Exercise 8\n",
    "\n",
    "#### First, install packages needed"
   ]
  },
  {
   "cell_type": "code",
   "execution_count": 134,
   "metadata": {},
   "outputs": [],
   "source": [
    "import pandas as pd\n",
    "import numpy as np\n",
    "import statsmodels.api as sm\n",
    "from scipy import stats"
   ]
  },
  {
   "cell_type": "markdown",
   "metadata": {},
   "source": [
    "#### Read in the dataset:\n"
   ]
  },
  {
   "cell_type": "code",
   "execution_count": 135,
   "metadata": {},
   "outputs": [
    {
     "data": {
      "text/html": [
       "<div>\n",
       "<style scoped>\n",
       "    .dataframe tbody tr th:only-of-type {\n",
       "        vertical-align: middle;\n",
       "    }\n",
       "\n",
       "    .dataframe tbody tr th {\n",
       "        vertical-align: top;\n",
       "    }\n",
       "\n",
       "    .dataframe thead th {\n",
       "        text-align: right;\n",
       "    }\n",
       "</style>\n",
       "<table border=\"1\" class=\"dataframe\">\n",
       "  <thead>\n",
       "    <tr style=\"text-align: right;\">\n",
       "      <th></th>\n",
       "      <th>Cost</th>\n",
       "      <th>output</th>\n",
       "      <th>Plabor</th>\n",
       "      <th>Pcapital</th>\n",
       "      <th>Pfuel</th>\n",
       "    </tr>\n",
       "  </thead>\n",
       "  <tbody>\n",
       "    <tr>\n",
       "      <th>0</th>\n",
       "      <td>0.082</td>\n",
       "      <td>2</td>\n",
       "      <td>2.09</td>\n",
       "      <td>183</td>\n",
       "      <td>17.9</td>\n",
       "    </tr>\n",
       "    <tr>\n",
       "      <th>1</th>\n",
       "      <td>0.661</td>\n",
       "      <td>3</td>\n",
       "      <td>2.05</td>\n",
       "      <td>174</td>\n",
       "      <td>35.1</td>\n",
       "    </tr>\n",
       "    <tr>\n",
       "      <th>2</th>\n",
       "      <td>0.990</td>\n",
       "      <td>4</td>\n",
       "      <td>2.05</td>\n",
       "      <td>171</td>\n",
       "      <td>35.1</td>\n",
       "    </tr>\n",
       "    <tr>\n",
       "      <th>3</th>\n",
       "      <td>0.315</td>\n",
       "      <td>4</td>\n",
       "      <td>1.83</td>\n",
       "      <td>166</td>\n",
       "      <td>32.2</td>\n",
       "    </tr>\n",
       "    <tr>\n",
       "      <th>4</th>\n",
       "      <td>0.197</td>\n",
       "      <td>5</td>\n",
       "      <td>2.12</td>\n",
       "      <td>233</td>\n",
       "      <td>28.6</td>\n",
       "    </tr>\n",
       "    <tr>\n",
       "      <th>...</th>\n",
       "      <td>...</td>\n",
       "      <td>...</td>\n",
       "      <td>...</td>\n",
       "      <td>...</td>\n",
       "      <td>...</td>\n",
       "    </tr>\n",
       "    <tr>\n",
       "      <th>140</th>\n",
       "      <td>44.894</td>\n",
       "      <td>9956</td>\n",
       "      <td>1.68</td>\n",
       "      <td>203</td>\n",
       "      <td>28.8</td>\n",
       "    </tr>\n",
       "    <tr>\n",
       "      <th>141</th>\n",
       "      <td>67.120</td>\n",
       "      <td>11477</td>\n",
       "      <td>2.24</td>\n",
       "      <td>151</td>\n",
       "      <td>26.5</td>\n",
       "    </tr>\n",
       "    <tr>\n",
       "      <th>142</th>\n",
       "      <td>73.050</td>\n",
       "      <td>11796</td>\n",
       "      <td>2.12</td>\n",
       "      <td>148</td>\n",
       "      <td>28.6</td>\n",
       "    </tr>\n",
       "    <tr>\n",
       "      <th>143</th>\n",
       "      <td>139.422</td>\n",
       "      <td>14359</td>\n",
       "      <td>2.31</td>\n",
       "      <td>212</td>\n",
       "      <td>33.5</td>\n",
       "    </tr>\n",
       "    <tr>\n",
       "      <th>144</th>\n",
       "      <td>119.939</td>\n",
       "      <td>16719</td>\n",
       "      <td>2.30</td>\n",
       "      <td>162</td>\n",
       "      <td>23.6</td>\n",
       "    </tr>\n",
       "  </tbody>\n",
       "</table>\n",
       "<p>145 rows × 5 columns</p>\n",
       "</div>"
      ],
      "text/plain": [
       "        Cost  output  Plabor  Pcapital  Pfuel\n",
       "0      0.082       2    2.09       183   17.9\n",
       "1      0.661       3    2.05       174   35.1\n",
       "2      0.990       4    2.05       171   35.1\n",
       "3      0.315       4    1.83       166   32.2\n",
       "4      0.197       5    2.12       233   28.6\n",
       "..       ...     ...     ...       ...    ...\n",
       "140   44.894    9956    1.68       203   28.8\n",
       "141   67.120   11477    2.24       151   26.5\n",
       "142   73.050   11796    2.12       148   28.6\n",
       "143  139.422   14359    2.31       212   33.5\n",
       "144  119.939   16719    2.30       162   23.6\n",
       "\n",
       "[145 rows x 5 columns]"
      ]
     },
     "execution_count": 135,
     "metadata": {},
     "output_type": "execute_result"
    }
   ],
   "source": [
    "df = pd.read_csv('A1Data2018.csv')\n",
    "df"
   ]
  },
  {
   "cell_type": "markdown",
   "metadata": {},
   "source": [
    "#### Take the logs as given in Hayashi:"
   ]
  },
  {
   "cell_type": "code",
   "execution_count": 136,
   "metadata": {},
   "outputs": [
    {
     "data": {
      "text/html": [
       "<div>\n",
       "<style scoped>\n",
       "    .dataframe tbody tr th:only-of-type {\n",
       "        vertical-align: middle;\n",
       "    }\n",
       "\n",
       "    .dataframe tbody tr th {\n",
       "        vertical-align: top;\n",
       "    }\n",
       "\n",
       "    .dataframe thead th {\n",
       "        text-align: right;\n",
       "    }\n",
       "</style>\n",
       "<table border=\"1\" class=\"dataframe\">\n",
       "  <thead>\n",
       "    <tr style=\"text-align: right;\">\n",
       "      <th></th>\n",
       "      <th>Cost</th>\n",
       "      <th>output</th>\n",
       "      <th>Plabor</th>\n",
       "      <th>Pcapital</th>\n",
       "      <th>Pfuel</th>\n",
       "    </tr>\n",
       "  </thead>\n",
       "  <tbody>\n",
       "    <tr>\n",
       "      <th>0</th>\n",
       "      <td>-2.501036</td>\n",
       "      <td>0.693147</td>\n",
       "      <td>0.737164</td>\n",
       "      <td>5.209486</td>\n",
       "      <td>2.884801</td>\n",
       "    </tr>\n",
       "    <tr>\n",
       "      <th>1</th>\n",
       "      <td>-0.414001</td>\n",
       "      <td>1.098612</td>\n",
       "      <td>0.717840</td>\n",
       "      <td>5.159055</td>\n",
       "      <td>3.558201</td>\n",
       "    </tr>\n",
       "    <tr>\n",
       "      <th>2</th>\n",
       "      <td>-0.010050</td>\n",
       "      <td>1.386294</td>\n",
       "      <td>0.717840</td>\n",
       "      <td>5.141664</td>\n",
       "      <td>3.558201</td>\n",
       "    </tr>\n",
       "    <tr>\n",
       "      <th>3</th>\n",
       "      <td>-1.155183</td>\n",
       "      <td>1.386294</td>\n",
       "      <td>0.604316</td>\n",
       "      <td>5.111988</td>\n",
       "      <td>3.471966</td>\n",
       "    </tr>\n",
       "    <tr>\n",
       "      <th>4</th>\n",
       "      <td>-1.624552</td>\n",
       "      <td>1.609438</td>\n",
       "      <td>0.751416</td>\n",
       "      <td>5.451038</td>\n",
       "      <td>3.353407</td>\n",
       "    </tr>\n",
       "    <tr>\n",
       "      <th>...</th>\n",
       "      <td>...</td>\n",
       "      <td>...</td>\n",
       "      <td>...</td>\n",
       "      <td>...</td>\n",
       "      <td>...</td>\n",
       "    </tr>\n",
       "    <tr>\n",
       "      <th>140</th>\n",
       "      <td>3.804304</td>\n",
       "      <td>9.205931</td>\n",
       "      <td>0.518794</td>\n",
       "      <td>5.313206</td>\n",
       "      <td>3.360375</td>\n",
       "    </tr>\n",
       "    <tr>\n",
       "      <th>141</th>\n",
       "      <td>4.206482</td>\n",
       "      <td>9.348100</td>\n",
       "      <td>0.806476</td>\n",
       "      <td>5.017280</td>\n",
       "      <td>3.277145</td>\n",
       "    </tr>\n",
       "    <tr>\n",
       "      <th>142</th>\n",
       "      <td>4.291144</td>\n",
       "      <td>9.375516</td>\n",
       "      <td>0.751416</td>\n",
       "      <td>4.997212</td>\n",
       "      <td>3.353407</td>\n",
       "    </tr>\n",
       "    <tr>\n",
       "      <th>143</th>\n",
       "      <td>4.937505</td>\n",
       "      <td>9.572132</td>\n",
       "      <td>0.837248</td>\n",
       "      <td>5.356586</td>\n",
       "      <td>3.511545</td>\n",
       "    </tr>\n",
       "    <tr>\n",
       "      <th>144</th>\n",
       "      <td>4.786983</td>\n",
       "      <td>9.724301</td>\n",
       "      <td>0.832909</td>\n",
       "      <td>5.087596</td>\n",
       "      <td>3.161247</td>\n",
       "    </tr>\n",
       "  </tbody>\n",
       "</table>\n",
       "<p>145 rows × 5 columns</p>\n",
       "</div>"
      ],
      "text/plain": [
       "         Cost    output    Plabor  Pcapital     Pfuel\n",
       "0   -2.501036  0.693147  0.737164  5.209486  2.884801\n",
       "1   -0.414001  1.098612  0.717840  5.159055  3.558201\n",
       "2   -0.010050  1.386294  0.717840  5.141664  3.558201\n",
       "3   -1.155183  1.386294  0.604316  5.111988  3.471966\n",
       "4   -1.624552  1.609438  0.751416  5.451038  3.353407\n",
       "..        ...       ...       ...       ...       ...\n",
       "140  3.804304  9.205931  0.518794  5.313206  3.360375\n",
       "141  4.206482  9.348100  0.806476  5.017280  3.277145\n",
       "142  4.291144  9.375516  0.751416  4.997212  3.353407\n",
       "143  4.937505  9.572132  0.837248  5.356586  3.511545\n",
       "144  4.786983  9.724301  0.832909  5.087596  3.161247\n",
       "\n",
       "[145 rows x 5 columns]"
      ]
     },
     "execution_count": 136,
     "metadata": {},
     "output_type": "execute_result"
    }
   ],
   "source": [
    "df_log = df.apply(lambda x: np.log(x))\n",
    "df_log"
   ]
  },
  {
   "cell_type": "markdown",
   "metadata": {},
   "source": [
    "# a)\n",
    "\n",
    "#### Estimate the model by OLS to obtain the following output:"
   ]
  },
  {
   "cell_type": "code",
   "execution_count": 137,
   "metadata": {},
   "outputs": [
    {
     "data": {
      "text/html": [
       "<table class=\"simpletable\">\n",
       "<caption>OLS Regression Results</caption>\n",
       "<tr>\n",
       "  <th>Dep. Variable:</th>          <td>Cost</td>       <th>  R-squared:         </th> <td>   0.926</td>\n",
       "</tr>\n",
       "<tr>\n",
       "  <th>Model:</th>                   <td>OLS</td>       <th>  Adj. R-squared:    </th> <td>   0.924</td>\n",
       "</tr>\n",
       "<tr>\n",
       "  <th>Method:</th>             <td>Least Squares</td>  <th>  F-statistic:       </th> <td>   437.7</td>\n",
       "</tr>\n",
       "<tr>\n",
       "  <th>Date:</th>             <td>Sat, 14 Nov 2020</td> <th>  Prob (F-statistic):</th> <td>4.82e-78</td>\n",
       "</tr>\n",
       "<tr>\n",
       "  <th>Time:</th>                 <td>11:24:48</td>     <th>  Log-Likelihood:    </th> <td> -67.542</td>\n",
       "</tr>\n",
       "<tr>\n",
       "  <th>No. Observations:</th>      <td>   145</td>      <th>  AIC:               </th> <td>   145.1</td>\n",
       "</tr>\n",
       "<tr>\n",
       "  <th>Df Residuals:</th>          <td>   140</td>      <th>  BIC:               </th> <td>   160.0</td>\n",
       "</tr>\n",
       "<tr>\n",
       "  <th>Df Model:</th>              <td>     4</td>      <th>                     </th>     <td> </td>   \n",
       "</tr>\n",
       "<tr>\n",
       "  <th>Covariance Type:</th>      <td>nonrobust</td>    <th>                     </th>     <td> </td>   \n",
       "</tr>\n",
       "</table>\n",
       "<table class=\"simpletable\">\n",
       "<tr>\n",
       "      <td></td>        <th>coef</th>     <th>std err</th>      <th>t</th>      <th>P>|t|</th>  <th>[0.025</th>    <th>0.975]</th>  \n",
       "</tr>\n",
       "<tr>\n",
       "  <th>const</th>    <td>   -3.5265</td> <td>    1.774</td> <td>   -1.987</td> <td> 0.049</td> <td>   -7.035</td> <td>   -0.018</td>\n",
       "</tr>\n",
       "<tr>\n",
       "  <th>output</th>   <td>    0.7204</td> <td>    0.017</td> <td>   41.244</td> <td> 0.000</td> <td>    0.686</td> <td>    0.755</td>\n",
       "</tr>\n",
       "<tr>\n",
       "  <th>Plabor</th>   <td>    0.4363</td> <td>    0.291</td> <td>    1.499</td> <td> 0.136</td> <td>   -0.139</td> <td>    1.012</td>\n",
       "</tr>\n",
       "<tr>\n",
       "  <th>Pcapital</th> <td>   -0.2199</td> <td>    0.339</td> <td>   -0.648</td> <td> 0.518</td> <td>   -0.891</td> <td>    0.451</td>\n",
       "</tr>\n",
       "<tr>\n",
       "  <th>Pfuel</th>    <td>    0.4265</td> <td>    0.100</td> <td>    4.249</td> <td> 0.000</td> <td>    0.228</td> <td>    0.625</td>\n",
       "</tr>\n",
       "</table>\n",
       "<table class=\"simpletable\">\n",
       "<tr>\n",
       "  <th>Omnibus:</th>       <td>51.403</td> <th>  Durbin-Watson:     </th> <td>   1.013</td>\n",
       "</tr>\n",
       "<tr>\n",
       "  <th>Prob(Omnibus):</th> <td> 0.000</td> <th>  Jarque-Bera (JB):  </th> <td> 175.700</td>\n",
       "</tr>\n",
       "<tr>\n",
       "  <th>Skew:</th>          <td> 1.303</td> <th>  Prob(JB):          </th> <td>7.03e-39</td>\n",
       "</tr>\n",
       "<tr>\n",
       "  <th>Kurtosis:</th>      <td> 7.721</td> <th>  Cond. No.          </th> <td>    506.</td>\n",
       "</tr>\n",
       "</table><br/><br/>Warnings:<br/>[1] Standard Errors assume that the covariance matrix of the errors is correctly specified."
      ],
      "text/plain": [
       "<class 'statsmodels.iolib.summary.Summary'>\n",
       "\"\"\"\n",
       "                            OLS Regression Results                            \n",
       "==============================================================================\n",
       "Dep. Variable:                   Cost   R-squared:                       0.926\n",
       "Model:                            OLS   Adj. R-squared:                  0.924\n",
       "Method:                 Least Squares   F-statistic:                     437.7\n",
       "Date:                Sat, 14 Nov 2020   Prob (F-statistic):           4.82e-78\n",
       "Time:                        11:24:48   Log-Likelihood:                -67.542\n",
       "No. Observations:                 145   AIC:                             145.1\n",
       "Df Residuals:                     140   BIC:                             160.0\n",
       "Df Model:                           4                                         \n",
       "Covariance Type:            nonrobust                                         \n",
       "==============================================================================\n",
       "                 coef    std err          t      P>|t|      [0.025      0.975]\n",
       "------------------------------------------------------------------------------\n",
       "const         -3.5265      1.774     -1.987      0.049      -7.035      -0.018\n",
       "output         0.7204      0.017     41.244      0.000       0.686       0.755\n",
       "Plabor         0.4363      0.291      1.499      0.136      -0.139       1.012\n",
       "Pcapital      -0.2199      0.339     -0.648      0.518      -0.891       0.451\n",
       "Pfuel          0.4265      0.100      4.249      0.000       0.228       0.625\n",
       "==============================================================================\n",
       "Omnibus:                       51.403   Durbin-Watson:                   1.013\n",
       "Prob(Omnibus):                  0.000   Jarque-Bera (JB):              175.700\n",
       "Skew:                           1.303   Prob(JB):                     7.03e-39\n",
       "Kurtosis:                       7.721   Cond. No.                         506.\n",
       "==============================================================================\n",
       "\n",
       "Warnings:\n",
       "[1] Standard Errors assume that the covariance matrix of the errors is correctly specified.\n",
       "\"\"\""
      ]
     },
     "execution_count": 137,
     "metadata": {},
     "output_type": "execute_result"
    }
   ],
   "source": [
    "est = sm.OLS(endog=df_log['Cost'], exog=sm.add_constant(df_log[df_log.columns[1:5]])).fit()\n",
    "est.summary()"
   ]
  },
  {
   "cell_type": "markdown",
   "metadata": {},
   "source": [
    "#### As the regression output shows the model that has been estimated contains of five regressors: a constant and the log values of output, Plabor, Pcapital, Pfuel. As the dependent variable is the log Cost, the estimated coefficients show the partial ceteris paribus effect of a one percent change of each independent variable on the cost, on average. For example, a one percent increase in Pfuel is on average associated with a 0.4265 percent increase in cost, keeping all other factors constant. This is significant on the 1%-level of significance as the p-value is smaller than 0.01. Other coefficients can be interpreted correspondingly."
   ]
  },
  {
   "cell_type": "markdown",
   "metadata": {},
   "source": [
    "# b)\n",
    "## a)"
   ]
  },
  {
   "cell_type": "code",
   "execution_count": 138,
   "metadata": {},
   "outputs": [
    {
     "data": {
      "text/plain": [
       "<class 'statsmodels.stats.contrast.ContrastResults'>\n",
       "                             Test for Constraints                             \n",
       "==============================================================================\n",
       "                 coef    std err          t      P>|t|      [0.025      0.975]\n",
       "------------------------------------------------------------------------------\n",
       "c0             0.4265      0.100      0.264      0.792       0.228       0.625\n",
       "=============================================================================="
      ]
     },
     "execution_count": 138,
     "metadata": {},
     "output_type": "execute_result"
    }
   ],
   "source": [
    "constraint1 = 'Pfuel = 0.4'\n",
    "\n",
    "T_test = est.t_test(constraint1)\n",
    "T_test"
   ]
  },
  {
   "cell_type": "markdown",
   "metadata": {},
   "source": [
    "#### The simple t-test with H0: Pfuel = 0.4 yields the t-statistic 0.264 and the corresponding p-Value of 0.792. As the latter is clearly greater than 0.05 or every other reasonable level of significance, the null of Pfuel being equal to 0.4 cannot be rejected on the 5% level"
   ]
  },
  {
   "cell_type": "markdown",
   "metadata": {},
   "source": [
    "## b)"
   ]
  },
  {
   "cell_type": "markdown",
   "metadata": {},
   "source": [
    "Since we have 5 regressors and 1 restriction, the R- matrix has to be a 1x5 matrix and the r is a scalar that is equal to 0.4:\n",
    "\n",
    "$R\\beta = r$ $\\rightarrow\\begin{bmatrix}\n",
    "0 & 0 & 0 & 0& 1\\\\\n",
    "\\end{bmatrix} \\begin{bmatrix} const \\\\ output \\\\ Plabor \\\\ Pcapital \\\\ Pfuel \\end{bmatrix} = 0.4$ \n"
   ]
  },
  {
   "cell_type": "markdown",
   "metadata": {},
   "source": [
    "#### define the matrices"
   ]
  },
  {
   "cell_type": "code",
   "execution_count": 139,
   "metadata": {},
   "outputs": [],
   "source": [
    "R = np.matrix([0, 0., 0, 0, 1])\n",
    "r = np.matrix([0.4])\n"
   ]
  },
  {
   "cell_type": "code",
   "execution_count": 156,
   "metadata": {},
   "outputs": [],
   "source": [
    "def f_test_manually(est, R, r):\n",
    "    cov = np.matrix(est.cov_params())\n",
    "    b = np.matrix(est.params).transpose()\n",
    "    f_stat = (np.matmul(R,b) - r).transpose() @ np.linalg.inv(R @ cov @ R.transpose()) @ (np.matmul(R,b) - r) / len(r)\n",
    "    p_value = stats.f.sf(f_stat, len(r), (est.nobs - len(est.params)))\n",
    "    return ('F-statistic: {}'.format(f_stat), 'F-p-value: {}'.format(p_value))"
   ]
  },
  {
   "cell_type": "code",
   "execution_count": 157,
   "metadata": {},
   "outputs": [
    {
     "data": {
      "text/plain": [
       "('F-statistic: [[0.06979861]]', 'F-p-value: [[0.79201874]]')"
      ]
     },
     "execution_count": 157,
     "metadata": {},
     "output_type": "execute_result"
    }
   ],
   "source": [
    "f_test_manually(est, R,r)"
   ]
  },
  {
   "cell_type": "markdown",
   "metadata": {},
   "source": [
    "#### Verify the results by the implemented F-test:"
   ]
  },
  {
   "cell_type": "code",
   "execution_count": 142,
   "metadata": {},
   "outputs": [
    {
     "data": {
      "text/plain": [
       "<class 'statsmodels.stats.contrast.ContrastResults'>\n",
       "<F test: F=array([[0.06979861]]), p=0.7920187421520621, df_denom=140, df_num=1>"
      ]
     },
     "execution_count": 142,
     "metadata": {},
     "output_type": "execute_result"
    }
   ],
   "source": [
    "F_test = est.f_test(constraint1)\n",
    "F_test"
   ]
  },
  {
   "cell_type": "markdown",
   "metadata": {},
   "source": [
    "#### The F-test with the specifications above shows the F-statistic of 0.0698 which has a p-Value of 0.79. This is again greater than 0.05 and the null can hence not be rejected on the 5% level of significance. This test can be considered correct as, for 1 restriction, the F-statistic is the squared t-statistic:"
   ]
  },
  {
   "cell_type": "code",
   "execution_count": 143,
   "metadata": {},
   "outputs": [
    {
     "name": "stdout",
     "output_type": "stream",
     "text": [
      "[[0.26419427]]\n"
     ]
    }
   ],
   "source": [
    "print(np.sqrt(F_test.fvalue))"
   ]
  },
  {
   "cell_type": "markdown",
   "metadata": {},
   "source": [
    "## c)"
   ]
  },
  {
   "cell_type": "markdown",
   "metadata": {},
   "source": [
    "#### As the unrestricted model has already been estimated, first regress the restricted model with the constraint: "
   ]
  },
  {
   "cell_type": "code",
   "execution_count": 144,
   "metadata": {},
   "outputs": [
    {
     "name": "stderr",
     "output_type": "stream",
     "text": [
      "C:\\Users\\Felix\\anaconda3\\lib\\site-packages\\statsmodels\\base\\model.py:1362: RuntimeWarning: divide by zero encountered in true_divide\n",
      "  return self.params / self.bse\n"
     ]
    },
    {
     "data": {
      "text/html": [
       "<table class=\"simpletable\">\n",
       "<caption>Generalized Linear Model Regression Results</caption>\n",
       "<tr>\n",
       "  <th>Dep. Variable:</th>         <td>Cost</td>       <th>  No. Observations:  </th>  <td>   145</td> \n",
       "</tr>\n",
       "<tr>\n",
       "  <th>Model:</th>                  <td>GLM</td>       <th>  Df Residuals:      </th>  <td>   141</td> \n",
       "</tr>\n",
       "<tr>\n",
       "  <th>Model Family:</th>        <td>Gaussian</td>     <th>  Df Model:          </th>  <td>     3</td> \n",
       "</tr>\n",
       "<tr>\n",
       "  <th>Link Function:</th>       <td>identity</td>     <th>  Scale:             </th> <td> 0.15293</td>\n",
       "</tr>\n",
       "<tr>\n",
       "  <th>Method:</th>                <td>IRLS</td>       <th>  Log-Likelihood:    </th> <td> -67.578</td>\n",
       "</tr>\n",
       "<tr>\n",
       "  <th>Date:</th>            <td>Sat, 14 Nov 2020</td> <th>  Deviance:          </th> <td>  21.563</td>\n",
       "</tr>\n",
       "<tr>\n",
       "  <th>Time:</th>                <td>11:24:48</td>     <th>  Pearson chi2:      </th>  <td>  21.6</td> \n",
       "</tr>\n",
       "<tr>\n",
       "  <th>No. Iterations:</th>          <td>1</td>        <th>                     </th>     <td> </td>   \n",
       "</tr>\n",
       "<tr>\n",
       "  <th>Covariance Type:</th>     <td>nonrobust</td>    <th>                     </th>     <td> </td>   \n",
       "</tr>\n",
       "</table>\n",
       "<table class=\"simpletable\">\n",
       "<tr>\n",
       "      <td></td>        <th>coef</th>     <th>std err</th>      <th>z</th>      <th>P>|z|</th>  <th>[0.025</th>    <th>0.975]</th>  \n",
       "</tr>\n",
       "<tr>\n",
       "  <th>const</th>    <td>   -3.5453</td> <td>    1.767</td> <td>   -2.006</td> <td> 0.045</td> <td>   -7.009</td> <td>   -0.082</td>\n",
       "</tr>\n",
       "<tr>\n",
       "  <th>output</th>   <td>    0.7196</td> <td>    0.017</td> <td>   42.016</td> <td> 0.000</td> <td>    0.686</td> <td>    0.753</td>\n",
       "</tr>\n",
       "<tr>\n",
       "  <th>Plabor</th>   <td>    0.4651</td> <td>    0.269</td> <td>    1.729</td> <td> 0.084</td> <td>   -0.062</td> <td>    0.992</td>\n",
       "</tr>\n",
       "<tr>\n",
       "  <th>Pcapital</th> <td>   -0.2024</td> <td>    0.332</td> <td>   -0.610</td> <td> 0.542</td> <td>   -0.853</td> <td>    0.448</td>\n",
       "</tr>\n",
       "<tr>\n",
       "  <th>Pfuel</th>    <td>    0.4000</td> <td>        0</td> <td>      inf</td> <td> 0.000</td> <td>    0.400</td> <td>    0.400</td>\n",
       "</tr>\n",
       "</table><br/><br/>Model has been estimated subject to linear equality constraints."
      ],
      "text/plain": [
       "<class 'statsmodels.iolib.summary.Summary'>\n",
       "\"\"\"\n",
       "                 Generalized Linear Model Regression Results                  \n",
       "==============================================================================\n",
       "Dep. Variable:                   Cost   No. Observations:                  145\n",
       "Model:                            GLM   Df Residuals:                      141\n",
       "Model Family:                Gaussian   Df Model:                            3\n",
       "Link Function:               identity   Scale:                         0.15293\n",
       "Method:                          IRLS   Log-Likelihood:                -67.578\n",
       "Date:                Sat, 14 Nov 2020   Deviance:                       21.563\n",
       "Time:                        11:24:48   Pearson chi2:                     21.6\n",
       "No. Iterations:                     1                                         \n",
       "Covariance Type:            nonrobust                                         \n",
       "==============================================================================\n",
       "                 coef    std err          z      P>|z|      [0.025      0.975]\n",
       "------------------------------------------------------------------------------\n",
       "const         -3.5453      1.767     -2.006      0.045      -7.009      -0.082\n",
       "output         0.7196      0.017     42.016      0.000       0.686       0.753\n",
       "Plabor         0.4651      0.269      1.729      0.084      -0.062       0.992\n",
       "Pcapital      -0.2024      0.332     -0.610      0.542      -0.853       0.448\n",
       "Pfuel          0.4000          0        inf      0.000       0.400       0.400\n",
       "==============================================================================\n",
       "\n",
       "Model has been estimated subject to linear equality constraints.\n",
       "\"\"\""
      ]
     },
     "execution_count": 144,
     "metadata": {},
     "output_type": "execute_result"
    }
   ],
   "source": [
    "restr = sm.GLM(endog=df_log['Cost'], exog=sm.add_constant(df_log[df_log.columns[1:5]]))\n",
    "est_restr  = restr.fit_constrained(constraint1)\n",
    "est_restr.summary()"
   ]
  },
  {
   "cell_type": "markdown",
   "metadata": {},
   "source": [
    "#### define a function that gives the F-statistic described in Hayashi as well as the corresponding p-Value:"
   ]
  },
  {
   "cell_type": "code",
   "execution_count": 145,
   "metadata": {},
   "outputs": [],
   "source": [
    "def calculate_nested_f_statistic(restr, unrestr):\n",
    "    \"\"\"Given two fitted GLMs, the larger of which contains the parameter space of the smaller, return the F Stat and P value corresponding to the larger model adding explanatory power\"\"\"\n",
    "    addtl_params = unrestr.df_model - restr.df_model\n",
    "    f_stat = (restr.deviance - unrestr.ssr) / (addtl_params * unrestr.scale)\n",
    "    df_numerator = addtl_params\n",
    "    # use fitted values to obtain n_obs from model object:\n",
    "    df_denom = (unrestr.fittedvalues.shape[0] - unrestr.df_model)\n",
    "    p_value = stats.f.sf(f_stat, df_numerator, df_denom)\n",
    "    return (f_stat, p_value)"
   ]
  },
  {
   "cell_type": "code",
   "execution_count": 146,
   "metadata": {},
   "outputs": [
    {
     "name": "stdout",
     "output_type": "stream",
     "text": [
      "F-Statistic: 0.06979861222078099 \n",
      "p-Value: 0.7920159893377923\n"
     ]
    }
   ],
   "source": [
    "print('F-Statistic:', calculate_nested_f_statistic(est_restr, est)[0], '\\np-Value:', calculate_nested_f_statistic(est_restr, est)[1])"
   ]
  },
  {
   "cell_type": "markdown",
   "metadata": {},
   "source": [
    "Wald_test = ((est_restr.ssr - est.ssr)/(est.ssr / (est.nobs - len(est.params))))\n",
    "Wald_test"
   ]
  },
  {
   "cell_type": "markdown",
   "metadata": {},
   "source": [
    "#### As expected, the test-statistic and the p-value are the same for this type of testing. This can be further supported by checking the implemented Wald-test that leads the same values."
   ]
  },
  {
   "cell_type": "code",
   "execution_count": 147,
   "metadata": {},
   "outputs": [
    {
     "data": {
      "text/plain": [
       "<class 'statsmodels.stats.contrast.ContrastResults'>\n",
       "<F test: F=array([[0.06979861]]), p=0.7920187421520621, df_denom=140, df_num=1>"
      ]
     },
     "execution_count": 147,
     "metadata": {},
     "output_type": "execute_result"
    }
   ],
   "source": [
    "est.wald_test(constraint1)"
   ]
  },
  {
   "cell_type": "code",
   "execution_count": null,
   "metadata": {},
   "outputs": [],
   "source": []
  },
  {
   "cell_type": "markdown",
   "metadata": {},
   "source": [
    "## c)\n"
   ]
  },
  {
   "cell_type": "code",
   "execution_count": 148,
   "metadata": {},
   "outputs": [],
   "source": [
    "#### First, estimate the unrestricted model again:"
   ]
  },
  {
   "cell_type": "code",
   "execution_count": 149,
   "metadata": {},
   "outputs": [
    {
     "data": {
      "text/html": [
       "<table class=\"simpletable\">\n",
       "<caption>Generalized Linear Model Regression Results</caption>\n",
       "<tr>\n",
       "  <th>Dep. Variable:</th>         <td>Cost</td>       <th>  No. Observations:  </th>  <td>   145</td> \n",
       "</tr>\n",
       "<tr>\n",
       "  <th>Model:</th>                  <td>GLM</td>       <th>  Df Residuals:      </th>  <td>   140</td> \n",
       "</tr>\n",
       "<tr>\n",
       "  <th>Model Family:</th>        <td>Gaussian</td>     <th>  Df Model:          </th>  <td>     4</td> \n",
       "</tr>\n",
       "<tr>\n",
       "  <th>Link Function:</th>       <td>identity</td>     <th>  Scale:             </th> <td> 0.15394</td>\n",
       "</tr>\n",
       "<tr>\n",
       "  <th>Method:</th>                <td>IRLS</td>       <th>  Log-Likelihood:    </th> <td> -67.542</td>\n",
       "</tr>\n",
       "<tr>\n",
       "  <th>Date:</th>            <td>Sat, 14 Nov 2020</td> <th>  Deviance:          </th> <td>  21.552</td>\n",
       "</tr>\n",
       "<tr>\n",
       "  <th>Time:</th>                <td>11:24:48</td>     <th>  Pearson chi2:      </th>  <td>  21.6</td> \n",
       "</tr>\n",
       "<tr>\n",
       "  <th>No. Iterations:</th>          <td>3</td>        <th>                     </th>     <td> </td>   \n",
       "</tr>\n",
       "<tr>\n",
       "  <th>Covariance Type:</th>     <td>nonrobust</td>    <th>                     </th>     <td> </td>   \n",
       "</tr>\n",
       "</table>\n",
       "<table class=\"simpletable\">\n",
       "<tr>\n",
       "      <td></td>        <th>coef</th>     <th>std err</th>      <th>z</th>      <th>P>|z|</th>  <th>[0.025</th>    <th>0.975]</th>  \n",
       "</tr>\n",
       "<tr>\n",
       "  <th>const</th>    <td>   -3.5265</td> <td>    1.774</td> <td>   -1.987</td> <td> 0.047</td> <td>   -7.004</td> <td>   -0.049</td>\n",
       "</tr>\n",
       "<tr>\n",
       "  <th>output</th>   <td>    0.7204</td> <td>    0.017</td> <td>   41.244</td> <td> 0.000</td> <td>    0.686</td> <td>    0.755</td>\n",
       "</tr>\n",
       "<tr>\n",
       "  <th>Plabor</th>   <td>    0.4363</td> <td>    0.291</td> <td>    1.499</td> <td> 0.134</td> <td>   -0.134</td> <td>    1.007</td>\n",
       "</tr>\n",
       "<tr>\n",
       "  <th>Pcapital</th> <td>   -0.2199</td> <td>    0.339</td> <td>   -0.648</td> <td> 0.517</td> <td>   -0.885</td> <td>    0.445</td>\n",
       "</tr>\n",
       "<tr>\n",
       "  <th>Pfuel</th>    <td>    0.4265</td> <td>    0.100</td> <td>    4.249</td> <td> 0.000</td> <td>    0.230</td> <td>    0.623</td>\n",
       "</tr>\n",
       "</table>"
      ],
      "text/plain": [
       "<class 'statsmodels.iolib.summary.Summary'>\n",
       "\"\"\"\n",
       "                 Generalized Linear Model Regression Results                  \n",
       "==============================================================================\n",
       "Dep. Variable:                   Cost   No. Observations:                  145\n",
       "Model:                            GLM   Df Residuals:                      140\n",
       "Model Family:                Gaussian   Df Model:                            4\n",
       "Link Function:               identity   Scale:                         0.15394\n",
       "Method:                          IRLS   Log-Likelihood:                -67.542\n",
       "Date:                Sat, 14 Nov 2020   Deviance:                       21.552\n",
       "Time:                        11:24:48   Pearson chi2:                     21.6\n",
       "No. Iterations:                     3                                         \n",
       "Covariance Type:            nonrobust                                         \n",
       "==============================================================================\n",
       "                 coef    std err          z      P>|z|      [0.025      0.975]\n",
       "------------------------------------------------------------------------------\n",
       "const         -3.5265      1.774     -1.987      0.047      -7.004      -0.049\n",
       "output         0.7204      0.017     41.244      0.000       0.686       0.755\n",
       "Plabor         0.4363      0.291      1.499      0.134      -0.134       1.007\n",
       "Pcapital      -0.2199      0.339     -0.648      0.517      -0.885       0.445\n",
       "Pfuel          0.4265      0.100      4.249      0.000       0.230       0.623\n",
       "==============================================================================\n",
       "\"\"\""
      ]
     },
     "execution_count": 149,
     "metadata": {},
     "output_type": "execute_result"
    }
   ],
   "source": [
    "restr1 = sm.GLM(endog=df_log['Cost'], exog=sm.add_constant(df_log[df_log.columns[1:5]]))\n",
    "est1 = restr1.fit()\n",
    "est1.summary()"
   ]
  },
  {
   "cell_type": "markdown",
   "metadata": {},
   "source": [
    "#### Since we have 5 regressors and 1 restriction, the R- matrix has to be a 1x5 matrix and the r is a scalar that is equal to 1:\n",
    "\n",
    "$R\\beta = r$ $\\rightarrow\\begin{bmatrix}\n",
    "0 & 0 & 1 & 1& 1\\\\\n",
    "\\end{bmatrix} \\begin{bmatrix} const \\\\ output \\\\ Plabor \\\\ Pcapital \\\\ Pfuel \\end{bmatrix} = 1$ \n",
    "\n",
    "#### This can be easily implemented as: \n"
   ]
  },
  {
   "cell_type": "code",
   "execution_count": 150,
   "metadata": {},
   "outputs": [],
   "source": [
    "constraint2 = 'Plabor + Pcapital + Pfuel = 1'"
   ]
  },
  {
   "cell_type": "markdown",
   "metadata": {},
   "source": [
    "#### Again perform the F-Test as in Hayashi (1.4.9) first, with matrices defined above: "
   ]
  },
  {
   "cell_type": "code",
   "execution_count": 159,
   "metadata": {},
   "outputs": [],
   "source": [
    "R1 = np.matrix([0, 0., 1, 1, 1])\n",
    "r1 = np.matrix([1])\n"
   ]
  },
  {
   "cell_type": "code",
   "execution_count": 160,
   "metadata": {},
   "outputs": [
    {
     "data": {
      "text/plain": [
       "('F-statistic: [[0.57366039]]', 'F-p-value: [[0.45008093]]')"
      ]
     },
     "execution_count": 160,
     "metadata": {},
     "output_type": "execute_result"
    }
   ],
   "source": [
    "f_test_manually(est1, R1, r1)"
   ]
  },
  {
   "cell_type": "markdown",
   "metadata": {},
   "source": [
    "#### And again confirm the results by implemented F-test"
   ]
  },
  {
   "cell_type": "code",
   "execution_count": 161,
   "metadata": {},
   "outputs": [
    {
     "data": {
      "text/plain": [
       "<class 'statsmodels.stats.contrast.ContrastResults'>\n",
       "<F test: F=array([[0.57366039]]), p=0.4500809321271022, df_denom=140, df_num=1>"
      ]
     },
     "execution_count": 161,
     "metadata": {},
     "output_type": "execute_result"
    }
   ],
   "source": [
    "Ftest2 = est1.f_test(constraint2)\n",
    "Ftest2"
   ]
  },
  {
   "cell_type": "markdown",
   "metadata": {},
   "source": [
    "#### The null of homogeneity can hence not be rejected on the 5%- level of significance as the p-value is clearly greater than 0.05.\n",
    "\n",
    "\n",
    "#### For the other test approach (Wald), the restricted model has to be estimated again:\n"
   ]
  },
  {
   "cell_type": "code",
   "execution_count": 152,
   "metadata": {},
   "outputs": [
    {
     "data": {
      "text/html": [
       "<table class=\"simpletable\">\n",
       "<caption>Generalized Linear Model Regression Results</caption>\n",
       "<tr>\n",
       "  <th>Dep. Variable:</th>         <td>Cost</td>       <th>  No. Observations:  </th>  <td>   145</td> \n",
       "</tr>\n",
       "<tr>\n",
       "  <th>Model:</th>                  <td>GLM</td>       <th>  Df Residuals:      </th>  <td>   141</td> \n",
       "</tr>\n",
       "<tr>\n",
       "  <th>Model Family:</th>        <td>Gaussian</td>     <th>  Df Model:          </th>  <td>     3</td> \n",
       "</tr>\n",
       "<tr>\n",
       "  <th>Link Function:</th>       <td>identity</td>     <th>  Scale:             </th> <td> 0.15348</td>\n",
       "</tr>\n",
       "<tr>\n",
       "  <th>Method:</th>                <td>IRLS</td>       <th>  Log-Likelihood:    </th> <td> -67.838</td>\n",
       "</tr>\n",
       "<tr>\n",
       "  <th>Date:</th>            <td>Sat, 14 Nov 2020</td> <th>  Deviance:          </th> <td>  21.640</td>\n",
       "</tr>\n",
       "<tr>\n",
       "  <th>Time:</th>                <td>11:24:48</td>     <th>  Pearson chi2:      </th>  <td>  21.6</td> \n",
       "</tr>\n",
       "<tr>\n",
       "  <th>No. Iterations:</th>          <td>1</td>        <th>                     </th>     <td> </td>   \n",
       "</tr>\n",
       "<tr>\n",
       "  <th>Covariance Type:</th>     <td>nonrobust</td>    <th>                     </th>     <td> </td>   \n",
       "</tr>\n",
       "</table>\n",
       "<table class=\"simpletable\">\n",
       "<tr>\n",
       "      <td></td>        <th>coef</th>     <th>std err</th>      <th>z</th>      <th>P>|z|</th>  <th>[0.025</th>    <th>0.975]</th>  \n",
       "</tr>\n",
       "<tr>\n",
       "  <th>const</th>    <td>   -4.6908</td> <td>    0.885</td> <td>   -5.301</td> <td> 0.000</td> <td>   -6.425</td> <td>   -2.956</td>\n",
       "</tr>\n",
       "<tr>\n",
       "  <th>output</th>   <td>    0.7207</td> <td>    0.017</td> <td>   41.334</td> <td> 0.000</td> <td>    0.687</td> <td>    0.755</td>\n",
       "</tr>\n",
       "<tr>\n",
       "  <th>Plabor</th>   <td>    0.5929</td> <td>    0.205</td> <td>    2.898</td> <td> 0.004</td> <td>    0.192</td> <td>    0.994</td>\n",
       "</tr>\n",
       "<tr>\n",
       "  <th>Pcapital</th> <td>   -0.0074</td> <td>    0.191</td> <td>   -0.039</td> <td> 0.969</td> <td>   -0.381</td> <td>    0.366</td>\n",
       "</tr>\n",
       "<tr>\n",
       "  <th>Pfuel</th>    <td>    0.4145</td> <td>    0.099</td> <td>    4.189</td> <td> 0.000</td> <td>    0.221</td> <td>    0.608</td>\n",
       "</tr>\n",
       "</table><br/><br/>Model has been estimated subject to linear equality constraints."
      ],
      "text/plain": [
       "<class 'statsmodels.iolib.summary.Summary'>\n",
       "\"\"\"\n",
       "                 Generalized Linear Model Regression Results                  \n",
       "==============================================================================\n",
       "Dep. Variable:                   Cost   No. Observations:                  145\n",
       "Model:                            GLM   Df Residuals:                      141\n",
       "Model Family:                Gaussian   Df Model:                            3\n",
       "Link Function:               identity   Scale:                         0.15348\n",
       "Method:                          IRLS   Log-Likelihood:                -67.838\n",
       "Date:                Sat, 14 Nov 2020   Deviance:                       21.640\n",
       "Time:                        11:24:48   Pearson chi2:                     21.6\n",
       "No. Iterations:                     1                                         \n",
       "Covariance Type:            nonrobust                                         \n",
       "==============================================================================\n",
       "                 coef    std err          z      P>|z|      [0.025      0.975]\n",
       "------------------------------------------------------------------------------\n",
       "const         -4.6908      0.885     -5.301      0.000      -6.425      -2.956\n",
       "output         0.7207      0.017     41.334      0.000       0.687       0.755\n",
       "Plabor         0.5929      0.205      2.898      0.004       0.192       0.994\n",
       "Pcapital      -0.0074      0.191     -0.039      0.969      -0.381       0.366\n",
       "Pfuel          0.4145      0.099      4.189      0.000       0.221       0.608\n",
       "==============================================================================\n",
       "\n",
       "Model has been estimated subject to linear equality constraints.\n",
       "\"\"\""
      ]
     },
     "execution_count": 152,
     "metadata": {},
     "output_type": "execute_result"
    }
   ],
   "source": [
    "est2 = restr1.fit_constrained(constraint2)\n",
    "est2.summary()"
   ]
  },
  {
   "cell_type": "markdown",
   "metadata": {},
   "source": [
    "#### Where R and r stated above can be confirmed (second and third element in the list)"
   ]
  },
  {
   "cell_type": "markdown",
   "metadata": {},
   "source": [
    "#### Again state the function for calculating the Wald-test statistic"
   ]
  },
  {
   "cell_type": "code",
   "execution_count": 153,
   "metadata": {},
   "outputs": [],
   "source": [
    "def calculate_nested_f_statistic1(restr, unrestr):\n",
    "    \"\"\"Given two fitted GLMs, the larger of which contains the parameter space of the smaller, return the F Stat and P value corresponding to the larger model adding explanatory power\"\"\"\n",
    "    addtl_params = unrestr.df_model - restr.df_model\n",
    "    f_stat = (restr.deviance - unrestr.deviance) / (addtl_params * unrestr.scale)\n",
    "    df_numerator = addtl_params\n",
    "    # use fitted values to obtain n_obs from model object:\n",
    "    df_denom = (unrestr.fittedvalues.shape[0] - unrestr.df_model)\n",
    "    p_value = stats.f.sf(f_stat, df_numerator, df_denom)\n",
    "    return (f_stat, p_value)"
   ]
  },
  {
   "cell_type": "code",
   "execution_count": 154,
   "metadata": {},
   "outputs": [
    {
     "name": "stdout",
     "output_type": "stream",
     "text": [
      "F-Statistic: 0.573660387505294 \n",
      "p-Value: 0.4500719174519835\n"
     ]
    }
   ],
   "source": [
    "print('F-Statistic:', calculate_nested_f_statistic1(est2, est1)[0], '\\np-Value:', calculate_nested_f_statistic1(est2, est1)[1])"
   ]
  },
  {
   "cell_type": "code",
   "execution_count": 155,
   "metadata": {},
   "outputs": [
    {
     "data": {
      "text/plain": [
       "<class 'statsmodels.stats.contrast.ContrastResults'>\n",
       "<F test: F=array([[0.57366039]]), p=0.4500809321271022, df_denom=140, df_num=1>"
      ]
     },
     "execution_count": 155,
     "metadata": {},
     "output_type": "execute_result"
    }
   ],
   "source": [
    "est.wald_test(constraint2)"
   ]
  },
  {
   "cell_type": "markdown",
   "metadata": {},
   "source": [
    "#### The test statistic and corresponding p-Values of the F-test, the manually calculated Wald-test and the Wald-test provided by the software are the same with the test decision stated above. "
   ]
  },
  {
   "cell_type": "code",
   "execution_count": null,
   "metadata": {},
   "outputs": [],
   "source": []
  },
  {
   "cell_type": "code",
   "execution_count": null,
   "metadata": {},
   "outputs": [],
   "source": []
  },
  {
   "cell_type": "code",
   "execution_count": null,
   "metadata": {},
   "outputs": [],
   "source": []
  },
  {
   "cell_type": "code",
   "execution_count": null,
   "metadata": {},
   "outputs": [],
   "source": []
  },
  {
   "cell_type": "code",
   "execution_count": null,
   "metadata": {},
   "outputs": [],
   "source": []
  }
 ],
 "metadata": {
  "kernelspec": {
   "display_name": "Python 3",
   "language": "python",
   "name": "python3"
  },
  "language_info": {
   "codemirror_mode": {
    "name": "ipython",
    "version": 3
   },
   "file_extension": ".py",
   "mimetype": "text/x-python",
   "name": "python",
   "nbconvert_exporter": "python",
   "pygments_lexer": "ipython3",
   "version": "3.8.3"
  }
 },
 "nbformat": 4,
 "nbformat_minor": 4
}
